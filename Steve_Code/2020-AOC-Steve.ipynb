{
 "cells": [
  {
   "cell_type": "markdown",
   "metadata": {},
   "source": [
    "# Steven's Advent of Code solutions"
   ]
  },
  {
   "cell_type": "markdown",
   "metadata": {},
   "source": [
    "# Imports"
   ]
  },
  {
   "cell_type": "code",
   "execution_count": 3,
   "metadata": {
    "ExecuteTime": {
     "end_time": "2020-12-07T11:37:29.760670Z",
     "start_time": "2020-12-07T11:37:28.830658Z"
    }
   },
   "outputs": [],
   "source": [
    "import sys\n",
    "import pathlib\n",
    "# import math\n",
    "# import pandas as pd\n",
    "from itertools import combinations\n",
    "import numpy as np\n",
    "import re"
   ]
  },
  {
   "cell_type": "code",
   "execution_count": 4,
   "metadata": {
    "ExecuteTime": {
     "end_time": "2020-12-07T11:37:29.763642Z",
     "start_time": "2020-12-07T11:37:29.761703Z"
    }
   },
   "outputs": [],
   "source": [
    "base = pathlib.Path('/home/steve/AOC/AOC2020/Steve_Code')\n",
    "raw = base / 'inputs'"
   ]
  },
  {
   "cell_type": "code",
   "execution_count": 5,
   "metadata": {
    "ExecuteTime": {
     "end_time": "2020-12-07T11:37:29.767111Z",
     "start_time": "2020-12-07T11:37:29.765472Z"
    }
   },
   "outputs": [],
   "source": [
    "import os\n",
    "cwd = os.getcwd()"
   ]
  },
  {
   "cell_type": "code",
   "execution_count": 6,
   "metadata": {
    "ExecuteTime": {
     "end_time": "2020-12-07T11:37:29.775051Z",
     "start_time": "2020-12-07T11:37:29.768617Z"
    }
   },
   "outputs": [
    {
     "data": {
      "text/plain": [
       "'/home/steve/AOC/AOC2020/Steve_Code'"
      ]
     },
     "execution_count": 6,
     "metadata": {},
     "output_type": "execute_result"
    }
   ],
   "source": [
    "cwd"
   ]
  },
  {
   "cell_type": "markdown",
   "metadata": {},
   "source": [
    "## Question 1"
   ]
  },
  {
   "cell_type": "markdown",
   "metadata": {},
   "source": [
    "## Part 1\n",
    "For example, suppose your expense report contained the following:\n",
    "\n",
    "1721\n",
    "979\n",
    "366\n",
    "299\n",
    "675\n",
    "1456\n",
    "\n",
    "In this list, the two entries that sum to 2020 are 1721 and 299. Multiplying them together produces 1721 * 299 = 514579, so the correct answer is 514579.\n",
    "\n",
    "Of course, your expense report is much larger. Find the two entries that sum to 2020; what do you get if you multiply them together?\n",
    "\n",
    "## Part 2\n",
    "The Elves in accounting are thankful for your help; one of them even offers you a starfish coin they had left over from a past vacation. They offer you a second one if you can find three numbers in your expense report that meet the same criteria.\n",
    "\n",
    "Using the above example again, the three entries that sum to 2020 are 979, 366, and 675. Multiplying them together produces the answer, 241861950.\n",
    "\n",
    "In your expense report, what is the product of the three entries that sum to 2020?"
   ]
  },
  {
   "cell_type": "markdown",
   "metadata": {},
   "source": [
    "### File read"
   ]
  },
  {
   "cell_type": "code",
   "execution_count": 7,
   "metadata": {
    "ExecuteTime": {
     "end_time": "2020-12-07T11:37:29.784965Z",
     "start_time": "2020-12-07T11:37:29.776120Z"
    }
   },
   "outputs": [],
   "source": [
    "fname = \"q1.txt\"\n",
    "file = raw / fname\n",
    "f = open(file, \"r\")"
   ]
  },
  {
   "cell_type": "markdown",
   "metadata": {},
   "source": [
    "## Part 1 answer OLD"
   ]
  },
  {
   "cell_type": "code",
   "execution_count": 8,
   "metadata": {
    "ExecuteTime": {
     "end_time": "2020-12-07T11:37:29.788438Z",
     "start_time": "2020-12-07T11:37:29.786365Z"
    }
   },
   "outputs": [],
   "source": [
    "alist = []\n",
    "for x in f:\n",
    "    alist.append(x)"
   ]
  },
  {
   "cell_type": "code",
   "execution_count": 9,
   "metadata": {
    "ExecuteTime": {
     "end_time": "2020-12-07T11:37:29.791913Z",
     "start_time": "2020-12-07T11:37:29.789771Z"
    }
   },
   "outputs": [],
   "source": [
    "for x, i in enumerate(alist, 0):\n",
    "    alist[x] = alist[x].strip(\"\\n\")"
   ]
  },
  {
   "cell_type": "code",
   "execution_count": 10,
   "metadata": {
    "ExecuteTime": {
     "end_time": "2020-12-07T11:37:29.802833Z",
     "start_time": "2020-12-07T11:37:29.794010Z"
    }
   },
   "outputs": [
    {
     "name": "stdout",
     "output_type": "stream",
     "text": [
      "691771\n"
     ]
    }
   ],
   "source": [
    "for x, i in enumerate(alist, 0):\n",
    "    for j in alist[x+1:]:\n",
    "        if int(i)+int(j) == 2020:\n",
    "            print(int(i)*int(j))"
   ]
  },
  {
   "cell_type": "markdown",
   "metadata": {},
   "source": [
    "## Part 2 answer OLD"
   ]
  },
  {
   "cell_type": "code",
   "execution_count": 11,
   "metadata": {
    "ExecuteTime": {
     "end_time": "2020-12-07T11:37:30.775967Z",
     "start_time": "2020-12-07T11:37:29.804253Z"
    }
   },
   "outputs": [
    {
     "name": "stdout",
     "output_type": "stream",
     "text": [
      "232508760\n",
      "232508760\n"
     ]
    }
   ],
   "source": [
    "for x, i in enumerate(alist, 0):\n",
    "    for j in alist[x+1:]:\n",
    "        for y in alist[x+2:]:\n",
    "            if int(i)+int(j)+int(y) == 2020:\n",
    "                print(int(i)*int(j)*int(y))"
   ]
  },
  {
   "cell_type": "markdown",
   "metadata": {
    "ExecuteTime": {
     "end_time": "2020-12-03T20:36:58.624975Z",
     "start_time": "2020-12-03T20:36:58.623454Z"
    }
   },
   "source": [
    "## Part 1 clean"
   ]
  },
  {
   "cell_type": "code",
   "execution_count": 12,
   "metadata": {
    "ExecuteTime": {
     "end_time": "2020-12-07T11:37:30.779467Z",
     "start_time": "2020-12-07T11:37:30.776848Z"
    }
   },
   "outputs": [],
   "source": [
    "fname = \"q1.txt\"\n",
    "file = raw / fname\n",
    "f = open(file, \"r\")"
   ]
  },
  {
   "cell_type": "code",
   "execution_count": 13,
   "metadata": {
    "ExecuteTime": {
     "end_time": "2020-12-07T11:37:30.782921Z",
     "start_time": "2020-12-07T11:37:30.780791Z"
    }
   },
   "outputs": [],
   "source": [
    "qlist = list(map(int, (x.strip() for x in f.readlines())))"
   ]
  },
  {
   "cell_type": "code",
   "execution_count": 14,
   "metadata": {
    "ExecuteTime": {
     "end_time": "2020-12-07T11:37:30.788377Z",
     "start_time": "2020-12-07T11:37:30.784426Z"
    }
   },
   "outputs": [
    {
     "name": "stdout",
     "output_type": "stream",
     "text": [
      "691771\n"
     ]
    }
   ],
   "source": [
    "for x in combinations(qlist, 2):\n",
    "    if sum(x) == 2020:\n",
    "        print(np.product(x))\n",
    "        break"
   ]
  },
  {
   "cell_type": "markdown",
   "metadata": {},
   "source": [
    "## Part 2 clean"
   ]
  },
  {
   "cell_type": "code",
   "execution_count": 15,
   "metadata": {
    "ExecuteTime": {
     "end_time": "2020-12-07T11:37:30.947592Z",
     "start_time": "2020-12-07T11:37:30.789747Z"
    }
   },
   "outputs": [
    {
     "name": "stdout",
     "output_type": "stream",
     "text": [
      "232508760\n"
     ]
    }
   ],
   "source": [
    "for x in combinations(qlist, 3):\n",
    "    if sum(x) == 2020:\n",
    "        print(np.product(x))"
   ]
  },
  {
   "cell_type": "markdown",
   "metadata": {},
   "source": [
    "# Question 2"
   ]
  },
  {
   "cell_type": "markdown",
   "metadata": {},
   "source": [
    "Their password database seems to be a little corrupted: some of the passwords wouldn't have been allowed by the Official Toboggan Corporate Policy that was in effect when they were chosen.\n",
    "\n",
    "To try to debug the problem, they have created a list (your puzzle input) of passwords (according to the corrupted database) and the corporate policy when that password was set.\n",
    "\n",
    "For example, suppose you have the following list:\n",
    "\n",
    "1-3 a: abcde\n",
    "1-3 b: cdefg\n",
    "2-9 c: ccccccccc\n",
    "Each line gives the password policy and then the password. The password policy indicates the lowest and highest number of times a given letter must appear for the password to be valid. For example, 1-3 a means that the password must contain a at least 1 time and at most 3 times.\n",
    "\n",
    "In the above example, 2 passwords are valid. The middle password, cdefg, is not; it contains no instances of b, but needs at least 1. The first and third passwords are valid: they contain one a or nine c, both within the limits of their respective policies.\n",
    "\n",
    "How many passwords are valid according to their policies?"
   ]
  },
  {
   "cell_type": "markdown",
   "metadata": {},
   "source": [
    "## File read"
   ]
  },
  {
   "cell_type": "code",
   "execution_count": 16,
   "metadata": {
    "ExecuteTime": {
     "end_time": "2020-12-07T11:37:30.955039Z",
     "start_time": "2020-12-07T11:37:30.948540Z"
    }
   },
   "outputs": [],
   "source": [
    "fname = \"q2.txt\"\n",
    "file = raw / fname\n",
    "f = open(file, \"r\")"
   ]
  },
  {
   "cell_type": "markdown",
   "metadata": {},
   "source": [
    "## Part 1 answer"
   ]
  },
  {
   "cell_type": "code",
   "execution_count": 17,
   "metadata": {
    "ExecuteTime": {
     "end_time": "2020-12-07T11:37:30.960044Z",
     "start_time": "2020-12-07T11:37:30.956145Z"
    }
   },
   "outputs": [],
   "source": [
    "qlist = [x.strip().split() for x in f.readlines()]"
   ]
  },
  {
   "cell_type": "code",
   "execution_count": 18,
   "metadata": {
    "ExecuteTime": {
     "end_time": "2020-12-07T11:37:30.965959Z",
     "start_time": "2020-12-07T11:37:30.961375Z"
    }
   },
   "outputs": [
    {
     "name": "stdout",
     "output_type": "stream",
     "text": [
      "586\n"
     ]
    }
   ],
   "source": [
    "countv = 0\n",
    "for x in qlist:\n",
    "    lo, hi = list(map(int, x[0].split('-')))\n",
    "    char = x[1][0]\n",
    "    countv += lo <= x[2].count(char) <= hi\n",
    "print(countv)"
   ]
  },
  {
   "cell_type": "markdown",
   "metadata": {},
   "source": [
    "## Part 2 answer"
   ]
  },
  {
   "cell_type": "code",
   "execution_count": 19,
   "metadata": {
    "ExecuteTime": {
     "end_time": "2020-12-07T11:37:30.971958Z",
     "start_time": "2020-12-07T11:37:30.967527Z"
    }
   },
   "outputs": [
    {
     "name": "stdout",
     "output_type": "stream",
     "text": [
      "352\n"
     ]
    }
   ],
   "source": [
    "countv2 = 0\n",
    "for x in qlist:\n",
    "    # cba to confine same vars into one\n",
    "    lo, hi = list(map(int, x[0].split('-')))\n",
    "    char = x[1][0]\n",
    "    countv2 += (x[2][lo - 1] == char) ^ (x[2][hi - 1] == char)\n",
    "print(countv2)"
   ]
  },
  {
   "cell_type": "markdown",
   "metadata": {},
   "source": [
    "# Question 3"
   ]
  },
  {
   "cell_type": "markdown",
   "metadata": {
    "ExecuteTime": {
     "end_time": "2020-12-03T21:30:21.375651Z",
     "start_time": "2020-12-03T21:30:21.370355Z"
    }
   },
   "source": [
    "Due to the local geology, trees in this area only grow on exact integer coordinates in a grid. You make a map (your puzzle input) of the open squares (.) and trees (#) you can see. For example:\n",
    "\n",
    "```..##.......\n",
    "#...#...#..\n",
    ".#....#..#.\n",
    "..#.#...#.#\n",
    ".#...##..#.\n",
    "..#.##.....\n",
    ".#.#.#....#\n",
    ".#........#\n",
    "#.##...#...\n",
    "#...##....#\n",
    ".#..#...#.#\n",
    "```\n",
    "These aren't the only trees, though; due to something you read about once involving arboreal genetics and biome stability, the same pattern repeats to the right many times:\n",
    "    \n",
    "You start on the open square (.) in the top-left corner and need to reach the bottom (below the bottom-most row on your map).\n",
    "The toboggan can only follow a few specific slopes (you opted for a cheaper model that prefers rational numbers); start by counting all the trees you would encounter for the slope right 3, down 1:\n",
    "From your starting position at the top-left, check the position that is right 3 and down 1. Then, check the position that is right 3 and down 1 from there, and so on until you go past the bottom of the map.\n",
    "The locations you'd check in the above example are marked here with O where there was an open square and X where there was a tree:\n",
    "```\n",
    "..##.........##.........##.........##.........##.........##.......  --->\n",
    "#..O#...#..#...#...#..#...#...#..#...#...#..#...#...#..#...#...#..\n",
    ".#....X..#..#....#..#..#....#..#..#....#..#..#....#..#..#....#..#.\n",
    "..#.#...#O#..#.#...#.#..#.#...#.#..#.#...#.#..#.#...#.#..#.#...#.#\n",
    ".#...##..#..X...##..#..#...##..#..#...##..#..#...##..#..#...##..#.\n",
    "..#.##.......#.X#.......#.##.......#.##.......#.##.......#.##.....  --->\n",
    ".#.#.#....#.#.#.#.O..#.#.#.#....#.#.#.#....#.#.#.#....#.#.#.#....#\n",
    ".#........#.#........X.#........#.#........#.#........#.#........#\n",
    "#.##...#...#.##...#...#.X#...#...#.##...#...#.##...#...#.##...#...\n",
    "#...##....##...##....##...#X....##...##....##...##....##...##....#\n",
    ".#..#...#.#.#..#...#.#.#..#...X.#.#..#...#.#.#..#...#.#.#..#...#.#  --->\n",
    "```\n",
    "\n",
    "In this example, traversing the map using this slope would cause you to encounter 7 trees.\n",
    "Starting at the top-left corner of your map and following a slope of right 3 and down 1, how many trees would you encounter?"
   ]
  },
  {
   "cell_type": "markdown",
   "metadata": {},
   "source": [
    "## File read"
   ]
  },
  {
   "cell_type": "code",
   "execution_count": 20,
   "metadata": {
    "ExecuteTime": {
     "end_time": "2020-12-07T11:37:30.982322Z",
     "start_time": "2020-12-07T11:37:30.974147Z"
    }
   },
   "outputs": [],
   "source": [
    "fname = \"q3.txt\"\n",
    "file = raw / fname\n",
    "f = open(file, \"r\")"
   ]
  },
  {
   "cell_type": "markdown",
   "metadata": {},
   "source": [
    "## Part 1"
   ]
  },
  {
   "cell_type": "code",
   "execution_count": 21,
   "metadata": {
    "ExecuteTime": {
     "end_time": "2020-12-07T11:37:30.985299Z",
     "start_time": "2020-12-07T11:37:30.983328Z"
    }
   },
   "outputs": [],
   "source": [
    "treeI = [x.strip() for x in f.readlines()]"
   ]
  },
  {
   "cell_type": "code",
   "execution_count": 22,
   "metadata": {
    "ExecuteTime": {
     "end_time": "2020-12-07T11:37:30.990283Z",
     "start_time": "2020-12-07T11:37:30.986468Z"
    }
   },
   "outputs": [],
   "source": [
    "def count_trees(slope_x, slope_y):\n",
    "    x = 0\n",
    "    y = 0\n",
    "    trees = 0\n",
    "    while y < len(treeI):\n",
    "        trees += treeI[y][x % len(treeI[0])] == '#'\n",
    "        x += slope_x\n",
    "        y += slope_y\n",
    "    return trees"
   ]
  },
  {
   "cell_type": "code",
   "execution_count": 23,
   "metadata": {
    "ExecuteTime": {
     "end_time": "2020-12-07T11:37:30.993719Z",
     "start_time": "2020-12-07T11:37:30.991577Z"
    }
   },
   "outputs": [
    {
     "name": "stdout",
     "output_type": "stream",
     "text": [
      "265\n"
     ]
    }
   ],
   "source": [
    "print(count_trees(3, 1))"
   ]
  },
  {
   "cell_type": "code",
   "execution_count": 24,
   "metadata": {
    "ExecuteTime": {
     "end_time": "2020-12-07T11:37:30.997745Z",
     "start_time": "2020-12-07T11:37:30.995233Z"
    }
   },
   "outputs": [
    {
     "name": "stdout",
     "output_type": "stream",
     "text": [
      "3154761400\n"
     ]
    }
   ],
   "source": [
    "print( count_trees(1, 1) * count_trees(3, 1) * count_trees(5, 1)\n",
    "    * count_trees(7, 1) * count_trees(1, 2))"
   ]
  },
  {
   "cell_type": "markdown",
   "metadata": {},
   "source": [
    "## Question 4"
   ]
  },
  {
   "cell_type": "markdown",
   "metadata": {},
   "source": [
    "Due to some questionable network security, you realize you might be able to solve both of these problems at the same time.\n",
    "\n",
    "The automatic passport scanners are slow because they're having trouble detecting which passports have all required fields. The expected fields are as follows:\n",
    "```\n",
    "byr (Birth Year)\n",
    "iyr (Issue Year)\n",
    "eyr (Expiration Year)\n",
    "hgt (Height)\n",
    "hcl (Hair Color)\n",
    "ecl (Eye Color)\n",
    "pid (Passport ID)\n",
    "cid (Country ID)\n",
    "```\n",
    "Passport data is validated in batch files (your puzzle input). Each passport is represented as a sequence of key:value pairs separated by spaces or newlines. Passports are separated by blank lines.\n",
    "\n",
    "Here is an example batch file containing four passports:\n",
    "```\n",
    "ecl:gry pid:860033327 eyr:2020 hcl:#fffffd\n",
    "byr:1937 iyr:2017 cid:147 hgt:183cm\n",
    "\n",
    "iyr:2013 ecl:amb cid:350 eyr:2023 pid:028048884\n",
    "hcl:#cfa07d byr:1929\n",
    "\n",
    "hcl:#ae17e1 iyr:2013\n",
    "eyr:2024\n",
    "ecl:brn pid:760753108 byr:1931\n",
    "hgt:179cm\n",
    "\n",
    "hcl:#cfa07d eyr:2025 pid:166559648\n",
    "iyr:2011 ecl:brn hgt:59in\n",
    "```\n",
    "The first passport is valid - all eight fields are present. The second passport is invalid - it is missing hgt (the Height field).\n",
    "The third passport is interesting; the only missing field is cid, so it looks like data from North Pole Credentials, not a passport at all! Surely, nobody would mind if you made the system temporarily ignore missing cid fields. Treat this \"passport\" as valid.\n",
    "The fourth passport is missing two fields, cid and byr. Missing cid is fine, but missing any other field is not, so this passport is invalid.\n",
    "According to the above rules, your improved system would report 2 valid passports.\n",
    "Count the number of valid passports - those that have all required fields. Treat cid as optional. In your batch file, how many passports are valid?"
   ]
  },
  {
   "cell_type": "markdown",
   "metadata": {},
   "source": [
    "### File read"
   ]
  },
  {
   "cell_type": "code",
   "execution_count": 25,
   "metadata": {
    "ExecuteTime": {
     "end_time": "2020-12-07T11:37:31.002677Z",
     "start_time": "2020-12-07T11:37:31.000338Z"
    }
   },
   "outputs": [],
   "source": [
    "fname = \"q4.txt\"\n",
    "file = raw / fname\n",
    "f = open(file, \"r\")"
   ]
  },
  {
   "cell_type": "markdown",
   "metadata": {},
   "source": [
    "### Part 1"
   ]
  },
  {
   "cell_type": "code",
   "execution_count": 26,
   "metadata": {
    "ExecuteTime": {
     "end_time": "2020-12-07T11:37:31.006634Z",
     "start_time": "2020-12-07T11:37:31.004366Z"
    }
   },
   "outputs": [],
   "source": [
    "data = f.read()"
   ]
  },
  {
   "cell_type": "code",
   "execution_count": 27,
   "metadata": {
    "ExecuteTime": {
     "end_time": "2020-12-07T11:37:31.011588Z",
     "start_time": "2020-12-07T11:37:31.007701Z"
    }
   },
   "outputs": [],
   "source": [
    "passports = []\n",
    "for block in data.split('\\n\\n'):\n",
    "    parsed = re.findall(r'(\\w+):(\\S+)', block)\n",
    "    passports.append({m[0]: m[1] for m in parsed})"
   ]
  },
  {
   "cell_type": "code",
   "execution_count": 28,
   "metadata": {
    "ExecuteTime": {
     "end_time": "2020-12-07T11:37:31.015059Z",
     "start_time": "2020-12-07T11:37:31.013042Z"
    }
   },
   "outputs": [],
   "source": [
    "required = {'byr', 'iyr', 'eyr', 'hgt', 'hcl', 'ecl', 'pid'}"
   ]
  },
  {
   "cell_type": "code",
   "execution_count": 29,
   "metadata": {
    "ExecuteTime": {
     "end_time": "2020-12-07T11:37:31.019015Z",
     "start_time": "2020-12-07T11:37:31.016881Z"
    }
   },
   "outputs": [
    {
     "name": "stdout",
     "output_type": "stream",
     "text": [
      "210\n"
     ]
    }
   ],
   "source": [
    "def is_valid(passport):\n",
    "    return not any(required - passport.keys())\n",
    "\n",
    "\n",
    "print(sum(map(is_valid, passports)))"
   ]
  },
  {
   "cell_type": "markdown",
   "metadata": {},
   "source": [
    "### Part 2"
   ]
  },
  {
   "cell_type": "code",
   "execution_count": 30,
   "metadata": {
    "ExecuteTime": {
     "end_time": "2020-12-07T11:37:31.025967Z",
     "start_time": "2020-12-07T11:37:31.020210Z"
    }
   },
   "outputs": [
    {
     "name": "stdout",
     "output_type": "stream",
     "text": [
      "131\n"
     ]
    }
   ],
   "source": [
    "def is_valid(passport):\n",
    "    # Abuse exceptions for control flow\n",
    "    try:\n",
    "        byr = int(passport['byr'])\n",
    "        if not 1920 <= byr <= 2002: return False\n",
    "        \n",
    "        iyr = int(passport['iyr'])\n",
    "        if not 2010 <= iyr <= 2020: return False\n",
    "        \n",
    "        eyr = int(passport['eyr'])\n",
    "        if not 2020 <= eyr <= 2030: return False\n",
    "        \n",
    "        hgt = passport['hgt']\n",
    "        match = re.match(r'(\\d+)(cm|in)', hgt)\n",
    "        height, unit = match[1], match[2]\n",
    "        \n",
    "        if unit == 'cm':\n",
    "            if not 150 <= int(height) <= 193:\n",
    "                return False\n",
    "        elif unit == 'in':\n",
    "            if not 59 <= int(height) <= 76:\n",
    "                return False\n",
    "        else: return False\n",
    "        \n",
    "        hcl = passport['hcl']\n",
    "        if hcl[0] != '#' or len(hcl) != 7: return False\n",
    "        \n",
    "        int(hcl[1:], 16)  # Raises exactly if the desired criterion fails\n",
    "        ecl = passport['ecl']\n",
    "        if ecl not in ('amb', 'blu', 'brn', 'gry', 'grn', 'hzl', 'oth'): \n",
    "            return False\n",
    "        \n",
    "        pid = passport['pid']\n",
    "        if not pid.isdigit() or len(pid) != 9: return False\n",
    "        \n",
    "        return True\n",
    "    except:\n",
    "        return False\n",
    "\n",
    "print(sum(map(is_valid, passports)))"
   ]
  },
  {
   "cell_type": "markdown",
   "metadata": {},
   "source": [
    "## Question 5"
   ]
  },
  {
   "cell_type": "markdown",
   "metadata": {
    "ExecuteTime": {
     "end_time": "2020-12-07T11:36:16.434897Z",
     "start_time": "2020-12-07T11:36:16.426067Z"
    }
   },
   "source": [
    "```\n",
    "he first 7 characters will either be F or B; these specify exactly one of the 128 rows on the plane (numbered 0 through 127). Each letter tells you which half of a region the given seat is in. Start with the whole list of rows; the first letter indicates whether the seat is in the front (0 through 63) or the back (64 through 127). The next letter indicates which half of that region the seat is in, and so on until you're left with exactly one row.\n",
    "\n",
    "For example, consider just the first seven characters of FBFBBFFRLR:\n",
    "\n",
    "Start by considering the whole range, rows 0 through 127.\n",
    "F means to take the lower half, keeping rows 0 through 63.\n",
    "B means to take the upper half, keeping rows 32 through 63.\n",
    "F means to take the lower half, keeping rows 32 through 47.\n",
    "B means to take the upper half, keeping rows 40 through 47.\n",
    "B keeps rows 44 through 47.\n",
    "F keeps rows 44 through 45.\n",
    "The final F keeps the lower of the two, row 44.\n",
    "The last three characters will be either L or R; these specify exactly one of the 8 columns of seats on the plane (numbered 0 through 7). The same process as above proceeds again, this time with only three steps. L means to keep the lower half, while R means to keep the upper half.\n",
    "\n",
    "For example, consider just the last 3 characters of FBFBBFFRLR:\n",
    "\n",
    "Start by considering the whole range, columns 0 through 7.\n",
    "R means to take the upper half, keeping columns 4 through 7.\n",
    "L means to take the lower half, keeping columns 4 through 5.\n",
    "The final R keeps the upper of the two, column 5.\n",
    "So, decoding FBFBBFFRLR reveals that it is the seat at row 44, column 5.\n",
    "\n",
    "Every seat also has a unique seat ID: multiply the row by 8, then add the column. In this example, the seat has ID 44 * 8 + 5 = 357.\n",
    "\n",
    "Here are some other boarding passes:\n",
    "\n",
    "BFFFBBFRRR: row 70, column 7, seat ID 567.\n",
    "FFFBBBFRRR: row 14, column 7, seat ID 119.\n",
    "BBFFBBFRLL: row 102, column 4, seat ID 820.\n",
    "As a sanity check, look through your list of boarding passes. What is the highest seat ID on a boarding pass?\n",
    "```"
   ]
  },
  {
   "cell_type": "markdown",
   "metadata": {},
   "source": [
    "### File read"
   ]
  },
  {
   "cell_type": "code",
   "execution_count": 31,
   "metadata": {
    "ExecuteTime": {
     "end_time": "2020-12-07T11:37:31.033910Z",
     "start_time": "2020-12-07T11:37:31.027176Z"
    }
   },
   "outputs": [],
   "source": [
    "fname = \"q5.txt\"\n",
    "file = raw / fname\n",
    "f = open(file, \"r\")"
   ]
  },
  {
   "cell_type": "markdown",
   "metadata": {},
   "source": [
    "### Part 1"
   ]
  },
  {
   "cell_type": "code",
   "execution_count": 32,
   "metadata": {
    "ExecuteTime": {
     "end_time": "2020-12-07T11:38:22.115528Z",
     "start_time": "2020-12-07T11:38:22.113418Z"
    }
   },
   "outputs": [],
   "source": [
    "ls = [x.strip() for x in f.readlines()]"
   ]
  },
  {
   "cell_type": "code",
   "execution_count": 46,
   "metadata": {
    "ExecuteTime": {
     "end_time": "2020-12-07T11:57:55.575893Z",
     "start_time": "2020-12-07T11:57:55.571068Z"
    }
   },
   "outputs": [
    {
     "name": "stdout",
     "output_type": "stream",
     "text": [
      "970\n"
     ]
    }
   ],
   "source": [
    "def binary(w):\n",
    "    w = re.sub('[FL]', '0', w)\n",
    "    w = re.sub('[BR]', '1', w)\n",
    "    return int(w, 2)\n",
    "\n",
    "print(max(map(binary, ls)))"
   ]
  },
  {
   "cell_type": "markdown",
   "metadata": {
    "ExecuteTime": {
     "end_time": "2020-12-07T11:38:47.928421Z",
     "start_time": "2020-12-07T11:38:47.926025Z"
    }
   },
   "source": [
    "### Part 2"
   ]
  },
  {
   "cell_type": "code",
   "execution_count": 59,
   "metadata": {
    "ExecuteTime": {
     "end_time": "2020-12-07T12:07:22.700668Z",
     "start_time": "2020-12-07T12:07:22.695469Z"
    }
   },
   "outputs": [
    {
     "name": "stdout",
     "output_type": "stream",
     "text": [
      "587\n"
     ]
    }
   ],
   "source": [
    "all_ids = sorted(list(map(binary, ls)))\n",
    "def find_missing(lst): \n",
    "    start = lst[0] \n",
    "    end = lst[-1] \n",
    "    return sorted(set(range(start, end + 1)).difference(lst))\n",
    "print(*find_missing(allids)) "
   ]
  }
 ],
 "metadata": {
  "jupytext": {
   "formats": "ipynb,py:light"
  },
  "kernelspec": {
   "display_name": "Base ds01 (py3.7)",
   "language": "python",
   "name": "python3"
  },
  "language_info": {
   "codemirror_mode": {
    "name": "ipython",
    "version": 3
   },
   "file_extension": ".py",
   "mimetype": "text/x-python",
   "name": "python",
   "nbconvert_exporter": "python",
   "pygments_lexer": "ipython3",
   "version": "3.7.9"
  },
  "toc": {
   "base_numbering": 1,
   "nav_menu": {},
   "number_sections": true,
   "sideBar": true,
   "skip_h1_title": false,
   "title_cell": "Table of Contents",
   "title_sidebar": "Contents",
   "toc_cell": false,
   "toc_position": {
    "height": "calc(100% - 180px)",
    "left": "10px",
    "top": "150px",
    "width": "512px"
   },
   "toc_section_display": true,
   "toc_window_display": true
  },
  "varInspector": {
   "cols": {
    "lenName": 16,
    "lenType": 16,
    "lenVar": 40
   },
   "kernels_config": {
    "python": {
     "delete_cmd_postfix": "",
     "delete_cmd_prefix": "del ",
     "library": "var_list.py",
     "varRefreshCmd": "print(var_dic_list())"
    },
    "r": {
     "delete_cmd_postfix": ") ",
     "delete_cmd_prefix": "rm(",
     "library": "var_list.r",
     "varRefreshCmd": "cat(var_dic_list()) "
    }
   },
   "types_to_exclude": [
    "module",
    "function",
    "builtin_function_or_method",
    "instance",
    "_Feature"
   ],
   "window_display": false
  }
 },
 "nbformat": 4,
 "nbformat_minor": 4
}
